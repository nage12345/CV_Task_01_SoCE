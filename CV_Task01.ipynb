{
  "nbformat": 4,
  "nbformat_minor": 0,
  "metadata": {
    "colab": {
      "name": "CV_Task01.ipynb",
      "provenance": []
    },
    "kernelspec": {
      "name": "python3",
      "display_name": "Python 3"
    },
    "language_info": {
      "name": "python"
    }
  },
  "cells": [
    {
      "cell_type": "code",
      "execution_count": 89,
      "metadata": {
        "id": "hK-n6Ce__D1D"
      },
      "outputs": [],
      "source": [
        "import pandas as pd\n",
        "from matplotlib import pyplot as plt\n",
        "from sklearn.model_selection import train_test_split\n",
        "import numpy as np\n",
        "from sklearn.metrics import f1_score"
      ]
    },
    {
      "cell_type": "code",
      "source": [
        "df = pd.read_csv(\"/content/crack_detection.csv\")\n",
        "df.head()"
      ],
      "metadata": {
        "id": "d3j0xXAi_msP",
        "colab": {
          "base_uri": "https://localhost:8080/",
          "height": 317
        },
        "outputId": "4a566b5b-911e-4049-8e0e-eae2f812d0cb"
      },
      "execution_count": 3,
      "outputs": [
        {
          "output_type": "execute_result",
          "data": {
            "text/plain": [
              "   Unnamed: 0    mean_r      std_r     kur_r    skew_r    mean_g      std_g  \\\n",
              "0           0  107.5734  29.267480  0.744029  0.408828  110.2533  26.953218   \n",
              "1           1  178.6713  14.917756  3.192406  0.238175  184.4947  14.882156   \n",
              "2           2  176.6517  34.618255 -0.146336 -0.421552  161.3083  33.688699   \n",
              "3           3  113.5760  20.084502  0.719752  0.737728  114.0056  19.536222   \n",
              "4           4  125.3565  29.251595  0.430344  0.833496  129.5277  28.661968   \n",
              "\n",
              "      kur_g    skew_g    mean_b  ...  contrast_r  contrast_g  contrast_b  \\\n",
              "0  1.254689 -0.135613  113.5715  ...    9.181953         177         173   \n",
              "1  3.035196  0.141160  190.8538  ...    9.207314         142         136   \n",
              "2  0.057178 -0.521476  147.2760  ...    9.186737         199         200   \n",
              "3  0.655846  0.729521  113.6179  ...    9.197973         146         142   \n",
              "4  0.475502  0.804161  131.9745  ...    9.189257         173         176   \n",
              "\n",
              "   corr_rg   corr_rb   corr_gb  moment_r     moment_g     moment_b  label  \n",
              "0      162  0.951368  0.913876  0.803333   856.585412   726.475939      0  \n",
              "1      129  0.988325  0.989474  0.976787   222.539456   221.478572      0  \n",
              "2      194  0.968581  0.967398  0.890845  1198.423587  1134.928451      1  \n",
              "3      138  0.987383  0.983663  0.961305   403.387224   381.663969      0  \n",
              "4      177  0.980727  0.986702  0.950291   855.655808   821.508433      1  \n",
              "\n",
              "[5 rows x 25 columns]"
            ],
            "text/html": [
              "\n",
              "  <div id=\"df-749e04f0-2336-454c-8181-35dd4de6e1ef\">\n",
              "    <div class=\"colab-df-container\">\n",
              "      <div>\n",
              "<style scoped>\n",
              "    .dataframe tbody tr th:only-of-type {\n",
              "        vertical-align: middle;\n",
              "    }\n",
              "\n",
              "    .dataframe tbody tr th {\n",
              "        vertical-align: top;\n",
              "    }\n",
              "\n",
              "    .dataframe thead th {\n",
              "        text-align: right;\n",
              "    }\n",
              "</style>\n",
              "<table border=\"1\" class=\"dataframe\">\n",
              "  <thead>\n",
              "    <tr style=\"text-align: right;\">\n",
              "      <th></th>\n",
              "      <th>Unnamed: 0</th>\n",
              "      <th>mean_r</th>\n",
              "      <th>std_r</th>\n",
              "      <th>kur_r</th>\n",
              "      <th>skew_r</th>\n",
              "      <th>mean_g</th>\n",
              "      <th>std_g</th>\n",
              "      <th>kur_g</th>\n",
              "      <th>skew_g</th>\n",
              "      <th>mean_b</th>\n",
              "      <th>...</th>\n",
              "      <th>contrast_r</th>\n",
              "      <th>contrast_g</th>\n",
              "      <th>contrast_b</th>\n",
              "      <th>corr_rg</th>\n",
              "      <th>corr_rb</th>\n",
              "      <th>corr_gb</th>\n",
              "      <th>moment_r</th>\n",
              "      <th>moment_g</th>\n",
              "      <th>moment_b</th>\n",
              "      <th>label</th>\n",
              "    </tr>\n",
              "  </thead>\n",
              "  <tbody>\n",
              "    <tr>\n",
              "      <th>0</th>\n",
              "      <td>0</td>\n",
              "      <td>107.5734</td>\n",
              "      <td>29.267480</td>\n",
              "      <td>0.744029</td>\n",
              "      <td>0.408828</td>\n",
              "      <td>110.2533</td>\n",
              "      <td>26.953218</td>\n",
              "      <td>1.254689</td>\n",
              "      <td>-0.135613</td>\n",
              "      <td>113.5715</td>\n",
              "      <td>...</td>\n",
              "      <td>9.181953</td>\n",
              "      <td>177</td>\n",
              "      <td>173</td>\n",
              "      <td>162</td>\n",
              "      <td>0.951368</td>\n",
              "      <td>0.913876</td>\n",
              "      <td>0.803333</td>\n",
              "      <td>856.585412</td>\n",
              "      <td>726.475939</td>\n",
              "      <td>0</td>\n",
              "    </tr>\n",
              "    <tr>\n",
              "      <th>1</th>\n",
              "      <td>1</td>\n",
              "      <td>178.6713</td>\n",
              "      <td>14.917756</td>\n",
              "      <td>3.192406</td>\n",
              "      <td>0.238175</td>\n",
              "      <td>184.4947</td>\n",
              "      <td>14.882156</td>\n",
              "      <td>3.035196</td>\n",
              "      <td>0.141160</td>\n",
              "      <td>190.8538</td>\n",
              "      <td>...</td>\n",
              "      <td>9.207314</td>\n",
              "      <td>142</td>\n",
              "      <td>136</td>\n",
              "      <td>129</td>\n",
              "      <td>0.988325</td>\n",
              "      <td>0.989474</td>\n",
              "      <td>0.976787</td>\n",
              "      <td>222.539456</td>\n",
              "      <td>221.478572</td>\n",
              "      <td>0</td>\n",
              "    </tr>\n",
              "    <tr>\n",
              "      <th>2</th>\n",
              "      <td>2</td>\n",
              "      <td>176.6517</td>\n",
              "      <td>34.618255</td>\n",
              "      <td>-0.146336</td>\n",
              "      <td>-0.421552</td>\n",
              "      <td>161.3083</td>\n",
              "      <td>33.688699</td>\n",
              "      <td>0.057178</td>\n",
              "      <td>-0.521476</td>\n",
              "      <td>147.2760</td>\n",
              "      <td>...</td>\n",
              "      <td>9.186737</td>\n",
              "      <td>199</td>\n",
              "      <td>200</td>\n",
              "      <td>194</td>\n",
              "      <td>0.968581</td>\n",
              "      <td>0.967398</td>\n",
              "      <td>0.890845</td>\n",
              "      <td>1198.423587</td>\n",
              "      <td>1134.928451</td>\n",
              "      <td>1</td>\n",
              "    </tr>\n",
              "    <tr>\n",
              "      <th>3</th>\n",
              "      <td>3</td>\n",
              "      <td>113.5760</td>\n",
              "      <td>20.084502</td>\n",
              "      <td>0.719752</td>\n",
              "      <td>0.737728</td>\n",
              "      <td>114.0056</td>\n",
              "      <td>19.536222</td>\n",
              "      <td>0.655846</td>\n",
              "      <td>0.729521</td>\n",
              "      <td>113.6179</td>\n",
              "      <td>...</td>\n",
              "      <td>9.197973</td>\n",
              "      <td>146</td>\n",
              "      <td>142</td>\n",
              "      <td>138</td>\n",
              "      <td>0.987383</td>\n",
              "      <td>0.983663</td>\n",
              "      <td>0.961305</td>\n",
              "      <td>403.387224</td>\n",
              "      <td>381.663969</td>\n",
              "      <td>0</td>\n",
              "    </tr>\n",
              "    <tr>\n",
              "      <th>4</th>\n",
              "      <td>4</td>\n",
              "      <td>125.3565</td>\n",
              "      <td>29.251595</td>\n",
              "      <td>0.430344</td>\n",
              "      <td>0.833496</td>\n",
              "      <td>129.5277</td>\n",
              "      <td>28.661968</td>\n",
              "      <td>0.475502</td>\n",
              "      <td>0.804161</td>\n",
              "      <td>131.9745</td>\n",
              "      <td>...</td>\n",
              "      <td>9.189257</td>\n",
              "      <td>173</td>\n",
              "      <td>176</td>\n",
              "      <td>177</td>\n",
              "      <td>0.980727</td>\n",
              "      <td>0.986702</td>\n",
              "      <td>0.950291</td>\n",
              "      <td>855.655808</td>\n",
              "      <td>821.508433</td>\n",
              "      <td>1</td>\n",
              "    </tr>\n",
              "  </tbody>\n",
              "</table>\n",
              "<p>5 rows × 25 columns</p>\n",
              "</div>\n",
              "      <button class=\"colab-df-convert\" onclick=\"convertToInteractive('df-749e04f0-2336-454c-8181-35dd4de6e1ef')\"\n",
              "              title=\"Convert this dataframe to an interactive table.\"\n",
              "              style=\"display:none;\">\n",
              "        \n",
              "  <svg xmlns=\"http://www.w3.org/2000/svg\" height=\"24px\"viewBox=\"0 0 24 24\"\n",
              "       width=\"24px\">\n",
              "    <path d=\"M0 0h24v24H0V0z\" fill=\"none\"/>\n",
              "    <path d=\"M18.56 5.44l.94 2.06.94-2.06 2.06-.94-2.06-.94-.94-2.06-.94 2.06-2.06.94zm-11 1L8.5 8.5l.94-2.06 2.06-.94-2.06-.94L8.5 2.5l-.94 2.06-2.06.94zm10 10l.94 2.06.94-2.06 2.06-.94-2.06-.94-.94-2.06-.94 2.06-2.06.94z\"/><path d=\"M17.41 7.96l-1.37-1.37c-.4-.4-.92-.59-1.43-.59-.52 0-1.04.2-1.43.59L10.3 9.45l-7.72 7.72c-.78.78-.78 2.05 0 2.83L4 21.41c.39.39.9.59 1.41.59.51 0 1.02-.2 1.41-.59l7.78-7.78 2.81-2.81c.8-.78.8-2.07 0-2.86zM5.41 20L4 18.59l7.72-7.72 1.47 1.35L5.41 20z\"/>\n",
              "  </svg>\n",
              "      </button>\n",
              "      \n",
              "  <style>\n",
              "    .colab-df-container {\n",
              "      display:flex;\n",
              "      flex-wrap:wrap;\n",
              "      gap: 12px;\n",
              "    }\n",
              "\n",
              "    .colab-df-convert {\n",
              "      background-color: #E8F0FE;\n",
              "      border: none;\n",
              "      border-radius: 50%;\n",
              "      cursor: pointer;\n",
              "      display: none;\n",
              "      fill: #1967D2;\n",
              "      height: 32px;\n",
              "      padding: 0 0 0 0;\n",
              "      width: 32px;\n",
              "    }\n",
              "\n",
              "    .colab-df-convert:hover {\n",
              "      background-color: #E2EBFA;\n",
              "      box-shadow: 0px 1px 2px rgba(60, 64, 67, 0.3), 0px 1px 3px 1px rgba(60, 64, 67, 0.15);\n",
              "      fill: #174EA6;\n",
              "    }\n",
              "\n",
              "    [theme=dark] .colab-df-convert {\n",
              "      background-color: #3B4455;\n",
              "      fill: #D2E3FC;\n",
              "    }\n",
              "\n",
              "    [theme=dark] .colab-df-convert:hover {\n",
              "      background-color: #434B5C;\n",
              "      box-shadow: 0px 1px 3px 1px rgba(0, 0, 0, 0.15);\n",
              "      filter: drop-shadow(0px 1px 2px rgba(0, 0, 0, 0.3));\n",
              "      fill: #FFFFFF;\n",
              "    }\n",
              "  </style>\n",
              "\n",
              "      <script>\n",
              "        const buttonEl =\n",
              "          document.querySelector('#df-749e04f0-2336-454c-8181-35dd4de6e1ef button.colab-df-convert');\n",
              "        buttonEl.style.display =\n",
              "          google.colab.kernel.accessAllowed ? 'block' : 'none';\n",
              "\n",
              "        async function convertToInteractive(key) {\n",
              "          const element = document.querySelector('#df-749e04f0-2336-454c-8181-35dd4de6e1ef');\n",
              "          const dataTable =\n",
              "            await google.colab.kernel.invokeFunction('convertToInteractive',\n",
              "                                                     [key], {});\n",
              "          if (!dataTable) return;\n",
              "\n",
              "          const docLinkHtml = 'Like what you see? Visit the ' +\n",
              "            '<a target=\"_blank\" href=https://colab.research.google.com/notebooks/data_table.ipynb>data table notebook</a>'\n",
              "            + ' to learn more about interactive tables.';\n",
              "          element.innerHTML = '';\n",
              "          dataTable['output_type'] = 'display_data';\n",
              "          await google.colab.output.renderOutput(dataTable, element);\n",
              "          const docLink = document.createElement('div');\n",
              "          docLink.innerHTML = docLinkHtml;\n",
              "          element.appendChild(docLink);\n",
              "        }\n",
              "      </script>\n",
              "    </div>\n",
              "  </div>\n",
              "  "
            ]
          },
          "metadata": {},
          "execution_count": 3
        }
      ]
    },
    {
      "cell_type": "code",
      "source": [
        "X = df.iloc[:,:-1].values\n",
        "y = df.iloc[:,-1:].values\n",
        "def normalize(X):\n",
        "  return (X - np.mean(X,axis = 0))/np.std(X,axis = 0)\n",
        "X = normalize(X)"
      ],
      "metadata": {
        "id": "BXCLjym0DjHN"
      },
      "execution_count": 33,
      "outputs": []
    },
    {
      "cell_type": "code",
      "source": [
        "print([X.shape,y.shape])"
      ],
      "metadata": {
        "colab": {
          "base_uri": "https://localhost:8080/"
        },
        "id": "bTFQ1ZqSDruV",
        "outputId": "c66eeb93-07dd-476a-8f81-d06914f56cb5"
      },
      "execution_count": 34,
      "outputs": [
        {
          "output_type": "stream",
          "name": "stdout",
          "text": [
            "[(700, 24), (700, 1)]\n"
          ]
        }
      ]
    },
    {
      "cell_type": "code",
      "source": [
        "X_train, X_rem, y_train, y_rem = train_test_split(X,y, train_size=0.6)"
      ],
      "metadata": {
        "id": "ID7bSgmYBUVY"
      },
      "execution_count": 35,
      "outputs": []
    },
    {
      "cell_type": "code",
      "source": [
        "X_valid, X_test, y_valid, y_test = train_test_split(X_rem,y_rem, test_size=0.2)"
      ],
      "metadata": {
        "id": "6XnmBoN8BVfA"
      },
      "execution_count": 36,
      "outputs": []
    },
    {
      "cell_type": "code",
      "source": [
        "def sigmoid(x):\n",
        "  return 1.0/(1+np.exp(-x))\n",
        "def forward(X,W,b):\n",
        "  y = sigmoid(np.dot(X,W)+b)\n",
        "  return y\n",
        "def predict(X,W,b):\n",
        "  predicted = sigmoid(np.dot(X,W)+b)\n",
        "  y = np.where(predicted>0.5,1,0)\n",
        "  return y\n",
        "def costFunct(y,y_hat):\n",
        "  l = -np.mean(np.log(y_hat)*y + np.log(1-y_hat)*(1-y))\n",
        "  return l  \n",
        "def gradient(X,Y,W,b):\n",
        "  m = X.shape[0]\n",
        "  y_hat = np.expand_dims(forward(X,W,b),axis =1)\n",
        "  dw = ((1/m)*np.dot(X.T, (y_hat - Y))).squeeze()\n",
        "  db = (1/m)*(np.sum((y_hat - Y)))\n",
        "  return dw,db  \n",
        "def BinarylogRegClassifier(X,Y,num_iter,learning_rate=0.001):\n",
        "  m,n = X.shape\n",
        "  W = np.random.random((n))\n",
        "  b = np.random.random(1)\n",
        "  losses = []\n",
        "\n",
        "  for i in range(num_iter):\n",
        "    Y_hat = forward(X,W,b)\n",
        "    losses.append([i,costFunct(Y,Y_hat)])\n",
        "    dw,db = gradient(X,Y,W,b)\n",
        "    W -= learning_rate*dw\n",
        "    b -= learning_rate*db\n",
        "\n",
        "  return losses,W,b  "
      ],
      "metadata": {
        "id": "eNMO-koREQRb"
      },
      "execution_count": 37,
      "outputs": []
    },
    {
      "cell_type": "code",
      "source": [
        "losses,W,b = BinarylogRegClassifier(X_train,y_train,12000)\n",
        "losses = np.asarray(losses)\n",
        "num_iterations0 = losses[:,0]\n",
        "loss0 = losses[:,1]\n",
        "predictions0 = predict(X_train,W,b)\n",
        "\n",
        "losses,W,b = BinarylogRegClassifier(X_valid,y_valid,12000)\n",
        "losses = np.asarray(losses)\n",
        "num_iterations1 = losses[:,0]\n",
        "loss1 = losses[:,1]\n",
        "predictions1 = predict(X_valid,W,b)\n",
        "\n",
        "losses,W,b = BinarylogRegClassifier(X_test,y_test,12000)\n",
        "losses = np.asarray(losses)\n",
        "num_iterations2 = losses[:,0]\n",
        "loss2 = losses[:,1]\n",
        "predictions2 = predict(X_test,W,b)"
      ],
      "metadata": {
        "id": "3N1UtJtqGdM2"
      },
      "execution_count": 96,
      "outputs": []
    },
    {
      "cell_type": "code",
      "source": [
        "plt.plot(num_iterations0,loss0)\n",
        "plt.xlabel('num_iteration')\n",
        "plt.ylabel('Loss')\n",
        "plt.title(\"num_iteration vs Loss_train_dataset\")\n",
        "plt.show()\n",
        "\n",
        "plt.plot(num_iterations1,loss1)\n",
        "plt.xlabel('num_iteration')\n",
        "plt.ylabel('Loss')\n",
        "plt.title(\"num_iteration vs Loss for validation_dataset\")\n",
        "plt.show()\n",
        "\n",
        "plt.plot(num_iterations2,loss2)\n",
        "plt.xlabel('num_iteration_test_dataset')\n",
        "plt.ylabel('Loss')\n",
        "plt.title(\"num_iteration vs Loss\")\n",
        "plt.show()"
      ],
      "metadata": {
        "colab": {
          "base_uri": "https://localhost:8080/",
          "height": 854
        },
        "id": "unyr-6iVGwYY",
        "outputId": "c58075b5-705c-48b3-f019-564d1fef3e13"
      },
      "execution_count": 97,
      "outputs": [
        {
          "output_type": "display_data",
          "data": {
            "text/plain": [
              "<Figure size 432x288 with 1 Axes>"
            ],
            "image/png": "[encoded data removed]"
          },
          "metadata": {
            "needs_background": "light"
          }
        },
        {
          "output_type": "display_data",
          "data": {
            "text/plain": [
              "<Figure size 432x288 with 1 Axes>"
            ],
            "image/png": "[encoded data removed]"
          },
          "metadata": {
            "needs_background": "light"
          }
        },
        {
          "output_type": "display_data",
          "data": {
            "text/plain": [
              "<Figure size 432x288 with 1 Axes>"
            ],
            "image/png": "[encoded data removed]"
          },
          "metadata": {
            "needs_background": "light"
          }
        }
      ]
    },
    {
      "cell_type": "code",
      "source": [
        "from sklearn.metrics import f1_score\n",
        "print(\"train F1 score\")\n",
        "print(f1_score(y_train, predictions0, average='macro'))\n",
        "print(\"valid F1 score\")\n",
        "print(f1_score(y_valid, predictions1, average='macro'))\n",
        "print(\"test F1 score\")\n",
        "print(f1_score(y_test, predictions2, average='macro'))"
      ],
      "metadata": {
        "colab": {
          "base_uri": "https://localhost:8080/"
        },
        "id": "EXPY7mkdOlim",
        "outputId": "aa492864-9e1c-4e52-f6e3-3be3122bca27"
      },
      "execution_count": 100,
      "outputs": [
        {
          "output_type": "stream",
          "name": "stdout",
          "text": [
            "train F1 score\n",
            "0.7714135123832004\n",
            "valid F1 score\n",
            "0.7854406130268199\n",
            "test F1 score\n",
            "0.7417654808959158\n"
          ]
        }
      ]
    }
  ]
}